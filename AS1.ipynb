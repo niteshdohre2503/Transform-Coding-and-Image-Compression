{
 "cells": [
  {
   "cell_type": "code",
   "execution_count": 7,
   "metadata": {},
   "outputs": [],
   "source": [
    "import numpy as np\n",
    "import cv2\n",
    "from scipy.fft import fft2, ifft2\n",
    "from scipy.fftpack import dct, idct\n",
    "import os\n",
    "from skimage.msetrics import peak_signal_noise_ratio, structural_similarity\n",
    "\n"
   ]
  },
  {
   "cell_type": "markdown",
   "metadata": {},
   "source": [
    "# Convert the image to gray scale (monochromatic) image using an in-built function\n"
   ]
  },
  {
   "cell_type": "code",
   "execution_count": 8,
   "metadata": {},
   "outputs": [],
   "source": [
    "# Load the image\n",
    "image = cv2.imread('input.jpg', cv2.IMREAD_COLOR)\n",
    "\n",
    "# Convert to grayscale\n",
    "gray_image2 = cv2.cvtColor(image, cv2.COLOR_BGR2GRAY)\n",
    "#gray_image2=cv2.resize(gray_image,(200,200))\n",
    "\n",
    "cv2.imshow(\"gray\", gray_image2)\n",
    "cv2.imwrite('gray.jpg',gray_image2)\n",
    "cv2.waitKey(0)\n",
    "cv2.destroyAllWindows()"
   ]
  },
  {
   "cell_type": "code",
   "execution_count": null,
   "metadata": {},
   "outputs": [],
   "source": []
  },
  {
   "cell_type": "markdown",
   "metadata": {},
   "source": [
    "# Division of image to blocks (sub images)\n"
   ]
  },
  {
   "cell_type": "code",
   "execution_count": 9,
   "metadata": {},
   "outputs": [
    {
     "name": "stdout",
     "output_type": "stream",
     "text": [
      "Saved 12 blocks to image files.\n"
     ]
    }
   ],
   "source": [
    "# Define block size (e.g., 8x8)\n",
    "block_size =200\n",
    "height, width = gray_image2.shape\n",
    "blocks = []\n",
    "\n",
    "for y in range(0, height, block_size):\n",
    "    for x in range(0, width, block_size):\n",
    "        block = gray_image2[y:y+block_size, x:x+block_size]\n",
    "        blocks.append(block)\n",
    "\n",
    "\n",
    "for i, block in enumerate(blocks):\n",
    "    cv2.imwrite(f'block_{i}.jpg', block)\n",
    "\n",
    "print(f'Saved {len(blocks)} blocks to image files.')"
   ]
  },
  {
   "cell_type": "markdown",
   "metadata": {},
   "source": [
    "# Transform of blocks"
   ]
  },
  {
   "cell_type": "code",
   "execution_count": 10,
   "metadata": {},
   "outputs": [],
   "source": [
    "transformed_blocks_dft = []\n",
    "transformed_blocks_dct = []\n",
    "\n",
    "for block in blocks:\n",
    "    # Apply DFT\n",
    "    dft_block = fft2(block)\n",
    "    transformed_blocks_dft.append(dft_block)\n",
    "\n",
    "    # Apply DCT\n",
    "    dct_block = dct(dct(block, axis=0, norm='ortho'), axis=1, norm='ortho')\n",
    "    transformed_blocks_dct.append(dct_block)\n"
   ]
  },
  {
   "cell_type": "code",
   "execution_count": 11,
   "metadata": {},
   "outputs": [
    {
     "name": "stdout",
     "output_type": "stream",
     "text": [
      "Saved 12 transformed DFT blocks to C:\\Users\\win-10\\Desktop\\COV686\\DFT.\n"
     ]
    }
   ],
   "source": [
    "output_folder = r'C:\\Users\\win-10\\Desktop\\COV686\\DFT'\n",
    "for i, transformed_block in enumerate(transformed_blocks_dft):\n",
    "    # Scale and shift the values of the transformed block for proper visualization\n",
    "    transformed_block = np.abs(transformed_block)  # Take the absolute value\n",
    "    transformed_block = np.log1p(transformed_block)  # Apply logarithm for better visualization\n",
    "    transformed_block = cv2.normalize(transformed_block, None, 0, 255, cv2.NORM_MINMAX, cv2.CV_8U)\n",
    "    \n",
    "    file_path = os.path.join(output_folder, f'transformed_dft_block_{i}.jpg')\n",
    "    cv2.imwrite(file_path, transformed_block)\n",
    "\n",
    "print(f'Saved {len(transformed_blocks_dft)} transformed DFT blocks to {output_folder}.')"
   ]
  },
  {
   "cell_type": "code",
   "execution_count": 12,
   "metadata": {},
   "outputs": [
    {
     "name": "stdout",
     "output_type": "stream",
     "text": [
      "Saved 12 transformed DCT blocks to C:\\Users\\win-10\\Desktop\\COV686\\DCT.\n"
     ]
    }
   ],
   "source": [
    "output_folder = r'C:\\Users\\win-10\\Desktop\\COV686\\DCT'\n",
    "\n",
    "for i, transformed_block in enumerate(transformed_blocks_dct):\n",
    "    # Scale and shift the values of the transformed block for proper visualization\n",
    "    transformed_block = np.abs(transformed_block)  # Take the absolute value\n",
    "    transformed_block = np.log1p(transformed_block)  # Apply logarithm for better visualization\n",
    "    transformed_block = cv2.normalize(transformed_block, None, 0, 255, cv2.NORM_MINMAX, cv2.CV_8U)\n",
    "    \n",
    "    file_path = os.path.join(output_folder, f'transformed_dct_block_{i}.jpg')\n",
    "    cv2.imwrite(file_path, transformed_block)\n",
    "\n",
    "print(f'Saved {len(transformed_blocks_dct)} transformed DCT blocks to {output_folder}.')"
   ]
  },
  {
   "cell_type": "markdown",
   "metadata": {},
   "source": [
    "# Truncation or quantization (can try different strategies)."
   ]
  },
  {
   "cell_type": "code",
   "execution_count": 13,
   "metadata": {},
   "outputs": [],
   "source": [
    "# Define a quantization step size\n",
    "quantization_step = 10  # Adjust as needed\n",
    "\n",
    "quantized_blocks_dft = []\n",
    "quantized_blocks_dct = []\n",
    "\n",
    "for dft_block, dct_block in zip(transformed_blocks_dft, transformed_blocks_dct):\n",
    "    # Quantize DFT coefficients\n",
    "    quantized_dft_block = np.round(dft_block / quantization_step) * quantization_step\n",
    "    quantized_blocks_dft.append(quantized_dft_block)\n",
    "\n",
    "    # Quantize DCT coefficients (can use a different step size)\n",
    "    quantized_dct_block = np.round(dct_block / (quantization_step * 2)) * (quantization_step * 2)\n",
    "    quantized_blocks_dct.append(quantized_dct_block)\n",
    "\n",
    "\n"
   ]
  },
  {
   "cell_type": "markdown",
   "metadata": {},
   "source": [
    "# Inverse transform and reconstruction of image from the retained coefficents."
   ]
  },
  {
   "cell_type": "code",
   "execution_count": 15,
   "metadata": {},
   "outputs": [],
   "source": [
    "reconstructed_image_dft = np.zeros_like(gray_image2, dtype=np.float64)\n",
    "reconstructed_image_dct = np.zeros_like(gray_image2, dtype=np.float64)\n",
    "\n",
    "index = 0\n",
    "\n",
    "for y in range(0, height, block_size):\n",
    "    for x in range(0, width, block_size):\n",
    "        # Inverse DFT\n",
    "        inverse_dft_block = np.real(ifft2(quantized_blocks_dft[index]))\n",
    "        reconstructed_image_dft[y:y+block_size, x:x+block_size] = inverse_dft_block\n",
    "\n",
    "        # Inverse DCT\n",
    "        inverse_dct_block = idct(idct(quantized_blocks_dct[index], axis=0, norm='ortho'), axis=1, norm='ortho')\n",
    "        reconstructed_image_dct[y:y+block_size, x:x+block_size] = inverse_dct_block\n",
    "\n",
    "        index += 1\n",
    "\n",
    "# Convert the reconstructed images to uint8\n",
    "reconstructed_image_dft = np.uint8(np.clip(reconstructed_image_dft, 0, 255))\n",
    "reconstructed_image_dct = np.uint8(np.clip(reconstructed_image_dct, 0, 255))\n",
    "\n",
    "# Display or save the reconstructed images\n",
    "# cv2.imshow('Reconstructed Image (DFT)', reconstructed_image_dft)\n",
    "# cv2.imshow('Reconstructed Image (DCT)', reconstructed_image_dct)\n",
    "file_path1 = os.path.join(r'C:\\Users\\win-10\\Desktop\\COV686\\DFT', f'Reconstructed Image (DFT).jpg')\n",
    "cv2.imwrite(file_path1, reconstructed_image_dft)\n",
    "\n",
    "file_path1 = os.path.join(r'C:\\Users\\win-10\\Desktop\\COV686\\DCT', f'Reconstructed Image (DCT).jpg')\n",
    "cv2.imwrite(file_path1, reconstructed_image_dct)\n",
    "\n",
    "\n",
    "cv2.waitKey(0)\n",
    "cv2.destroyAllWindows()\n"
   ]
  },
  {
   "cell_type": "code",
   "execution_count": 16,
   "metadata": {},
   "outputs": [
    {
     "name": "stdout",
     "output_type": "stream",
     "text": [
      "DFT: PSNR = 51.142931605940795, SSI = 0.9983892176601027\n",
      "DCT: PSNR = 34.36183389230149, SSI = 0.9056244093070377\n"
     ]
    }
   ],
   "source": [
    "psnr_dft = peak_signal_noise_ratio(gray_image2, reconstructed_image_dft)\n",
    "ssi_dft = structural_similarity(gray_image2, reconstructed_image_dft)\n",
    "psnr_dct = peak_signal_noise_ratio(gray_image2, reconstructed_image_dct)\n",
    "ssi_dct = structural_similarity(gray_image2, reconstructed_image_dct)\n",
    "\n",
    "print(f'DFT: PSNR = {psnr_dft}, SSI = {ssi_dft}')\n",
    "print(f'DCT: PSNR = {psnr_dct}, SSI = {ssi_dct}')"
   ]
  },
  {
   "cell_type": "code",
   "execution_count": null,
   "metadata": {},
   "outputs": [],
   "source": []
  }
 ],
 "metadata": {
  "kernelspec": {
   "display_name": "Python 3",
   "language": "python",
   "name": "python3"
  },
  "language_info": {
   "codemirror_mode": {
    "name": "ipython",
    "version": 3
   },
   "file_extension": ".py",
   "mimetype": "text/x-python",
   "name": "python",
   "nbconvert_exporter": "python",
   "pygments_lexer": "ipython3",
   "version": "3.10.7"
  },
  "orig_nbformat": 4
 },
 "nbformat": 4,
 "nbformat_minor": 2
}
